{
 "cells": [
  {
   "cell_type": "code",
   "execution_count": 38,
   "metadata": {
    "scrolled": true
   },
   "outputs": [
    {
     "name": "stdout",
     "output_type": "stream",
     "text": [
      "   rowindex      contract  price_crossing  price_distortion  roll_start  \\\n",
      "0         1  TUZ92 Comdty               0                 1           0   \n",
      "1         2  TUH93 Comdty               0                 1           1   \n",
      "2         3  TUM93 Comdty               0                 0           1   \n",
      "3         4  TUU93 Comdty               1                 1           0   \n",
      "4         5  TUZ93 Comdty               0                 0           1   \n",
      "\n",
      "   roll_heart  near_minus_next  ctd_last_first  ctd1_percent  delivery_cost  \\\n",
      "0           1                1               1             1              0   \n",
      "1           0                1               1             0              0   \n",
      "2           1                0               0             0              0   \n",
      "3           0                0               0             0              1   \n",
      "4           1                1               1             1              0   \n",
      "\n",
      "   delivery_ratio  squeeze  \n",
      "0               0     True  \n",
      "1               1    False  \n",
      "2               0    False  \n",
      "3               1     True  \n",
      "4               0    False  \n",
      "(900, 12)\n",
      "(899, 2) (899,)\n"
     ]
    }
   ],
   "source": [
    "#import data\n",
    "import pandas as pd\n",
    "import numpy as np\n",
    "import matplotlib.pyplot as plt\n",
    "from matplotlib.colors import ListedColormap\n",
    "\n",
    "treasury=pd.read_csv('C:\\\\Users\\\\Wincy\\\\Desktop\\\\UIUC\\\\Machine learning\\\\Treasury Squeeze test - DS1.csv')\n",
    "print(treasury.head())\n",
    "print(treasury.shape)\n",
    "\n",
    "y = treasury.iloc[1:, -1]\n",
    "X = treasury.iloc[1:,[3,6]]\n",
    "print(X.shape,y.shape)"
   ]
  },
  {
   "cell_type": "code",
   "execution_count": 39,
   "metadata": {},
   "outputs": [
    {
     "name": "stdout",
     "output_type": "stream",
     "text": [
      "(629, 2) (629,)\n"
     ]
    },
    {
     "name": "stderr",
     "output_type": "stream",
     "text": [
      "C:\\Users\\Wincy\\Anaconda3\\lib\\site-packages\\sklearn\\preprocessing\\data.py:625: DataConversionWarning: Data with input dtype int64 were all converted to float64 by StandardScaler.\n",
      "  return self.partial_fit(X, y)\n",
      "C:\\Users\\Wincy\\Anaconda3\\lib\\site-packages\\ipykernel_launcher.py:14: DataConversionWarning: Data with input dtype int64 were all converted to float64 by StandardScaler.\n",
      "  \n",
      "C:\\Users\\Wincy\\Anaconda3\\lib\\site-packages\\ipykernel_launcher.py:15: DataConversionWarning: Data with input dtype int64 were all converted to float64 by StandardScaler.\n",
      "  from ipykernel import kernelapp as app\n"
     ]
    }
   ],
   "source": [
    "#K-nearest neighbors – a lazy learning algorithm\n",
    "from sklearn.neighbors import KNeighborsClassifier\n",
    "from sklearn.model_selection import train_test_split\n",
    "from sklearn.metrics import accuracy_score\n",
    "from sklearn import preprocessing\n",
    "\n",
    "# Split the dataset into a training and a testing set\n",
    "# Test set will be the 30% taken randomly\n",
    "X_train, X_test, y_train, y_test = train_test_split(X, y,test_size=0.30, random_state=33)\n",
    "print( X_train.shape, y_train.shape)\n",
    "\n",
    "#Standardize the features\n",
    "scaler = preprocessing.StandardScaler().fit(X_train)\n",
    "X_train_std = scaler.transform(X_train)\n",
    "X_test_std = scaler.transform(X_test)\n",
    "\n",
    "k_range = range(1, 26)\n",
    "scores = []\n",
    "for k in k_range:\n",
    "    knn = KNeighborsClassifier(n_neighbors = k)\n",
    "    knn.fit(X_train_std,y_train)\n",
    "    y_pred = knn.predict(X_test_std)\n",
    "    scores.append(accuracy_score(y_test,y_pred))\n",
    "\n",
    "scores\n",
    "np.max(scores)\n",
    "k_optimal = scores.index(np.max(scores)) + 1"
   ]
  },
  {
   "cell_type": "code",
   "execution_count": 40,
   "metadata": {
    "scrolled": true
   },
   "outputs": [
    {
     "data": {
      "image/png": "[encoded data removed]",
      "text/plain": [
       "<Figure size 432x288 with 1 Axes>"
      ]
     },
     "metadata": {
      "needs_background": "light"
     },
     "output_type": "display_data"
    }
   ],
   "source": [
    "from sklearn.neighbors import KNeighborsClassifier\n",
    "def plot_decision_regions(X, y, classifier, test_idx = None,resolution = 0.02):\n",
    "    markers = ('s', 'x', 'o', '^', 'v')\n",
    "    colors = ('red', 'blue', 'lightgreen', 'gray', 'cyan')\n",
    "    cmap = ListedColormap(colors[:len(np.unique(y))])\n",
    "    # plot the decision surface\n",
    "    x1_min, x1_max = X[:, 0].min() - 1, X[:, 0].max() + 1\n",
    "    x2_min, x2_max = X[:, 1].min() - 1, X[:, 1].max() + 1\n",
    "    xx1, xx2 = np.meshgrid(np.arange(x1_min, x1_max, resolution),\n",
    "    np.arange(x2_min, x2_max, resolution))\n",
    "    Z = classifier.predict(np.array([xx1.ravel(), xx2.ravel()]).T)\n",
    "    Z = Z.reshape(xx1.shape)\n",
    "    plt.contourf(xx1, xx2, Z, alpha=0.3, cmap=cmap)\n",
    "    plt.xlim(xx1.min(), xx1.max())\n",
    "    plt.ylim(xx2.min(), xx2.max())\n",
    "    for idx, cl in enumerate(np.unique(y)):\n",
    "        plt.scatter(x=X[y == cl, 0], y=X[y == cl, 1],\n",
    "        alpha=0.8, c=colors[idx],marker=markers[idx], label=cl,\n",
    "        edgecolor='black')\n",
    "    # highlight test samples\n",
    "    if test_idx:\n",
    "        X_test, y_test = X[test_idx, :], y[test_idx]\n",
    "        plt.scatter(X_test[:, 0], X_test[:, 1],c='', edgecolor='black', alpha=1.0,linewidth=1, marker='o',s=100, label='test set')\n",
    "\n",
    "knn = KNeighborsClassifier(n_neighbors=k_optimal)\n",
    "knn.fit(X_train_std, y_train)\n",
    "X_combined_std = np.vstack((X_train_std, X_test_std))\n",
    "y_combined = np.hstack((y_train, y_test))\n",
    "\n",
    "plot_decision_regions(X_combined_std, y_combined, classifier=knn, test_idx=range(105,150))\n",
    "plt.xlabel('price_distortion [standardized]')\n",
    "plt.ylabel('near_minus_next [standardized]')\n",
    "plt.legend(loc='upper left')\n",
    "plt.show()"
   ]
  },
  {
   "cell_type": "code",
   "execution_count": 41,
   "metadata": {
    "scrolled": true
   },
   "outputs": [
    {
     "data": {
      "image/png": "[encoded data removed]",
      "text/plain": [
       "<Figure size 432x288 with 1 Axes>"
      ]
     },
     "metadata": {
      "needs_background": "light"
     },
     "output_type": "display_data"
    }
   ],
   "source": [
    "#Building a decision tree\n",
    "from sklearn.tree import DecisionTreeClassifier\n",
    "tree = DecisionTreeClassifier(criterion='gini',max_depth=4,random_state=1)\n",
    "tree.fit(X_train_std, y_train)\n",
    "X_combined_tree = np.vstack((X_train_std, X_test_std))\n",
    "y_combined_tree = np.hstack((y_train, y_test))\n",
    "plot_decision_regions(X_combined_tree,y_combined_tree,classifier=tree,test_idx=range(105, 150))\n",
    "plt.xlabel('price_distortion[standardized]')\n",
    "plt.ylabel('near_minus_next[standardized]')\n",
    "plt.legend(loc='upper left')\n",
    "plt.show()"
   ]
  },
  {
   "cell_type": "code",
   "execution_count": 42,
   "metadata": {},
   "outputs": [
    {
     "name": "stdout",
     "output_type": "stream",
     "text": [
      "My name is {Yunxi Wu}\n",
      "My NetID is: {yunxiw2}\n",
      "I hereby certify that I have read the University policy on Academic Integrity and that I am not in violation.\n"
     ]
    }
   ],
   "source": [
    "print(\"My name is {Yunxi Wu}\")\n",
    "print(\"My NetID is: {yunxiw2}\")\n",
    "print(\"I hereby certify that I have read the University policy on Academic Integrity and that I am not in violation.\")"
   ]
  },
  {
   "cell_type": "code",
   "execution_count": null,
   "metadata": {},
   "outputs": [],
   "source": [
    "https://github.com/yunxiwu/IE598_F19_HW2"
   ]
  }
 ],
 "metadata": {
  "kernelspec": {
   "display_name": "Python 3",
   "language": "python",
   "name": "python3"
  },
  "language_info": {
   "codemirror_mode": {
    "name": "ipython",
    "version": 3
   },
   "file_extension": ".py",
   "mimetype": "text/x-python",
   "name": "python",
   "nbconvert_exporter": "python",
   "pygments_lexer": "ipython3",
   "version": "3.7.1"
  }
 },
 "nbformat": 4,
 "nbformat_minor": 2
}
